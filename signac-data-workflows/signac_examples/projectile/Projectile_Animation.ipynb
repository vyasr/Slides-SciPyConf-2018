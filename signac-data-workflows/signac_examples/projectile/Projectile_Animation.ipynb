{
 "cells": [
  {
   "cell_type": "markdown",
   "metadata": {},
   "source": [
    "# About\n",
    "This notebook gives an example of how the ``signac`` framework can be used to manage a data space and automate operations on this data space.\n",
    "In this example, we let's imagine that we're studying the behavior of a rocket launched at $6$ mph at an angle to visualize the distance it will travel before it lands.\n",
    "We use simple Newtonian mechanics to model the motion, first with a force balance in y to find how long the object travels: \n",
    "\n",
    "$\n",
    "\\begin{equation}\n",
    "    \\begin{aligned}\n",
    "        y(t) &= y(0) + v\\sin(\\theta) t - \\frac{1}{2} g t^2 \\\\\n",
    "    \\end{aligned}\n",
    "\\end{equation}\n",
    "$\n",
    "\n",
    "Note that $y(0)=0$ and solve for $t$ such that $y(t) = 0$:\n",
    "\n",
    "$\n",
    "\\begin{equation}\n",
    "    \\begin{aligned}\n",
    "        0 &= 0 + v\\sin(\\theta)t - \\frac{1}{2} gt^2 \\\\\n",
    "        t &= \\frac{-v \\sin(\\theta) \\pm \\sqrt{v^2 sin^2(\\theta)}}{-g} \\\\\n",
    "    \\end{aligned}\n",
    "\\end{equation}\n",
    "$\n",
    "\n",
    "One of these solutions is evidently zero, so the root we want is given by:\n",
    "\n",
    "$\n",
    "\\begin{equation}\n",
    "    \\begin{aligned}\n",
    "        t &= \\frac{2v \\sin(\\theta)}{g} \\\\\n",
    "    \\end{aligned}\n",
    "\\end{equation}\n",
    "$"
   ]
  },
  {
   "cell_type": "markdown",
   "metadata": {},
   "source": [
    "# Initial experiments\n",
    "\n",
    "Our first goal is to use the simple math we've derived above to see how far the rocket travels for different launch angles.\n",
    "To do this, we define some functions and test them."
   ]
  },
  {
   "cell_type": "code",
   "execution_count": null,
   "metadata": {},
   "outputs": [],
   "source": [
    "!rm -rf workspace signac.rc project.py *.err.* *.out.* signac_project_document.json animation.gif view"
   ]
  },
  {
   "cell_type": "code",
   "execution_count": null,
   "metadata": {},
   "outputs": [],
   "source": [
    "import numpy as np\n",
    "def get_tmax(v, theta, g = 9.81):\n",
    "    return 2*v*np.sin(theta)/g\n",
    "\n",
    "def compute_x(t, v, theta, g = 9.81):\n",
    "    return v*np.cos(theta)*t\n",
    "\n",
    "def compute_y(t, v, theta, g = 9.81):\n",
    "    return v*np.sin(theta)*t - (g/2)*t**2"
   ]
  },
  {
   "cell_type": "code",
   "execution_count": null,
   "metadata": {},
   "outputs": [],
   "source": [
    "print(get_tmax(6, 0.1))\n",
    "print(get_tmax(6, 0.2))\n",
    "print(get_tmax(6, 0.3))\n",
    "\n",
    "for theta in np.arange(0.1, 0.4, 0.1):\n",
    "    print(\"The distance traveled when \\u03B8={:1.1f} is {:3.2e}\".format(\n",
    "        theta, compute_x(get_tmax(6, theta), 0.6, theta)))"
   ]
  },
  {
   "cell_type": "markdown",
   "metadata": {},
   "source": [
    "# Initialize data space\n",
    "\n",
    "Now, let's see how we can store this data with ``signac``. "
   ]
  },
  {
   "cell_type": "code",
   "execution_count": null,
   "metadata": {},
   "outputs": [],
   "source": [
    "import signac\n",
    "theta = 0.4\n",
    "\n",
    "project = signac.init_project(\"Projectile\")\n",
    "job = project.open_job({\"theta\": theta})\n",
    "job.init()\n",
    "\n",
    "job.doc['t_max'] = get_tmax(6, theta)\n",
    "job.doc['x_max'] = compute_x(job.doc.t_max, 6, theta)\n",
    "job.doc['y_max'] = compute_y(job.doc.t_max/2, 6, theta)"
   ]
  },
  {
   "cell_type": "code",
   "execution_count": null,
   "metadata": {
    "scrolled": true
   },
   "outputs": [],
   "source": [
    "print(job.sp())\n",
    "print(job.doc())"
   ]
  },
  {
   "cell_type": "code",
   "execution_count": null,
   "metadata": {},
   "outputs": [],
   "source": [
    "!find . -not -path '*/\\.*'"
   ]
  },
  {
   "cell_type": "markdown",
   "metadata": {},
   "source": [
    "# Computing the trajectory\n",
    "\n",
    "In order to get a better idea of the behavior, we decide we want to compute and visualize the full trajectory.\n",
    "To do so, let's use the data stored in ``signac``."
   ]
  },
  {
   "cell_type": "code",
   "execution_count": null,
   "metadata": {},
   "outputs": [],
   "source": [
    "num_samples=1000\n",
    "t = np.linspace(0, job.doc['t_max'], num_samples)\n",
    "x = compute_x(t, 6, job.sp.theta)\n",
    "y = compute_y(t, 6, job.sp.theta)"
   ]
  },
  {
   "cell_type": "code",
   "execution_count": null,
   "metadata": {
    "scrolled": false
   },
   "outputs": [],
   "source": [
    "from matplotlib import pyplot as plt\n",
    "from matplotlib import animation, patches\n",
    "from IPython.display import Image\n",
    "\n",
    "num_frames = 20\n",
    "interval = num_samples//num_frames\n",
    "\n",
    "fig, ax = plt.subplots(1, 1);\n",
    "\n",
    "def draw_frame(fn):\n",
    "    ax.clear();\n",
    "    ax.plot(x[:fn*interval], y[:fn*interval])\n",
    "    ax.set_xlim([0, np.max(x)*1.2])\n",
    "    ax.set_ylim([0, np.max(y)*1.2])\n",
    "    patch = patches.Ellipse(\n",
    "                xy=(x[fn*interval], y[fn*interval]),\n",
    "                width=np.max(x)/14,\n",
    "                height=np.max(y)/10,\n",
    "                fc='#00274c')\n",
    "    ax.add_patch(patch)\n",
    "    return []\n",
    "\n",
    "anim = animation.FuncAnimation(fig, draw_frame, frames=num_frames, blit=True)\n",
    "plt.close()\n",
    "anim.save('animation.gif', writer='imagemagick', fps=10)\n",
    "Image('animation.gif')"
   ]
  },
  {
   "cell_type": "markdown",
   "metadata": {},
   "source": [
    "# Expand data space\n",
    "\n",
    "We've shown how this works for one data point.\n",
    "Now we get to the real goals of ``signac``, which is interacting with larger data spaces.\n",
    "Let's add more data points to our space."
   ]
  },
  {
   "cell_type": "code",
   "execution_count": null,
   "metadata": {},
   "outputs": [],
   "source": [
    "thetas = [0.4, 0.7, 1.0, 1.3]\n",
    "for theta in thetas:\n",
    "    job = project.open_job({\"theta\": theta})\n",
    "    job.init()\n",
    "\n",
    "    job.doc['t_max'] = get_tmax(6, theta)\n",
    "    job.doc['x_max'] = compute_x(job.doc.t_max, 6, theta)\n",
    "    job.doc['y_max'] = compute_y(job.doc.t_max/2, 6, theta)"
   ]
  },
  {
   "cell_type": "markdown",
   "metadata": {},
   "source": [
    "## Accessing this data\n",
    "\n",
    "Here we see the simplest method of accessing data in a project: iterating over the entire project to compute some quantity."
   ]
  },
  {
   "cell_type": "code",
   "execution_count": null,
   "metadata": {},
   "outputs": [],
   "source": [
    "x_max = 0\n",
    "theta_max = None\n",
    "for job in project:\n",
    "    if job.doc.x_max > x_max:\n",
    "        x_max = job.doc.x_max\n",
    "        theta_max = job.sp.theta\n",
    "print(\"The furthest distance traveled was {:4.2f} for a theta value of {}\".format(x_max, theta_max))"
   ]
  },
  {
   "cell_type": "markdown",
   "metadata": {},
   "source": [
    "# Changing the schema\n",
    "\n",
    "Now imagine that we suddenly discover new fuels for our rocket that allow it to travel much faster than it originally did.\n",
    "This means that we now have to account for a range of velocities in our data schema.\n",
    "To do so, we can easily modify existing jobs and then"
   ]
  },
  {
   "cell_type": "code",
   "execution_count": null,
   "metadata": {},
   "outputs": [],
   "source": [
    "v = 6\n",
    "for job in project:\n",
    "    job.sp.v = v"
   ]
  },
  {
   "cell_type": "code",
   "execution_count": null,
   "metadata": {},
   "outputs": [],
   "source": [
    "vs = [6, 8, 10]\n",
    "thetas = [0.4, 0.7, 1.0, 1.3]\n",
    "for v in vs:\n",
    "    for theta in thetas:\n",
    "        sp = {\"v\": v, \"theta\": theta} \n",
    "        job = project.open_job(sp)\n",
    "        job.init() # Operation is idempotent, won't affect preexisting jobs."
   ]
  },
  {
   "cell_type": "markdown",
   "metadata": {},
   "source": [
    "## Encoding the workflow\n",
    "\n",
    "Since we're now working with a larger data space, it would be useful to see how we can automate this.\n",
    "Everything that we've done so far can be encapsulated in a single Python file that uses signac-flow encode the full logic."
   ]
  },
  {
   "cell_type": "code",
   "execution_count": null,
   "metadata": {},
   "outputs": [],
   "source": [
    "%%writefile project.py\n",
    "from matplotlib import pyplot as plt\n",
    "from matplotlib import animation, patches\n",
    "import numpy as np\n",
    "\n",
    "def get_tmax(v, theta, g = 9.81):\n",
    "    return 2*v*np.sin(theta)/g\n",
    "\n",
    "def compute_x(t, v, theta, g = 9.81):\n",
    "    return v*np.cos(theta)*t\n",
    "\n",
    "def compute_y(t, v, theta, g = 9.81):\n",
    "    return v*np.sin(theta)*t - (g/2)*t**2\n",
    "\n",
    "def make_animation(v, theta, x, y, tmax, xmax, ymax, num_samples):\n",
    "    num_frames = 20\n",
    "    interval = num_samples//num_frames\n",
    "\n",
    "    fig, ax = plt.subplots(1, 1);\n",
    "    \n",
    "    def draw_frame(fn, v, theta, x, y, tmax, xmax, ymax):\n",
    "        ax.clear();\n",
    "        \n",
    "        if fn*interval <= tmax:\n",
    "            xpos, ypos = x[fn*interval], y[fn*interval]\n",
    "            x, y = x[:fn*interval], y[:fn*interval]\n",
    "        else:\n",
    "            xpos, ypos = x[tmax], y[tmax]\n",
    "            x, y = x[:tmax], y[:tmax]\n",
    "        \n",
    "        ax.plot(x, y)\n",
    "        ax.set_title(\"v = {:2.1f}, $theta$ = {:2.2f}\".format(v, theta), size = 18)\n",
    "        ax.set_xlim([0, xmax*1.2])\n",
    "        ax.set_ylim([0, ymax*1.2])\n",
    "        patch = patches.Ellipse(\n",
    "                    xy=(xpos, ypos),\n",
    "                    width=xmax/14,\n",
    "                    height=ymax/10,\n",
    "                    fc='#00274c')\n",
    "        ax.add_patch(patch)\n",
    "        return []\n",
    "\n",
    "    anim = animation.FuncAnimation(fig, draw_frame, frames=num_frames, blit=True,\n",
    "                                   fargs=(v, theta, x, y, tmax, xmax, ymax))\n",
    "    plt.close()\n",
    "    anim.save('./animation.gif', writer='imagemagick', fps=10)\n",
    "\n",
    "import signac\n",
    "from flow import FlowProject\n",
    "class Project(FlowProject):\n",
    "    pass\n",
    "\n",
    "@Project.operation\n",
    "@Project.post.true('t_max')\n",
    "def compute_outputs(job):\n",
    "    project = signac.get_project()\n",
    "    job.doc['t_max'] = get_tmax(job.sp.v, job.sp.theta)\n",
    "    job.doc['x_max'] = compute_x(job.doc.t_max, job.sp.v, job.sp.theta)\n",
    "    job.doc['y_max'] = compute_y(job.doc.t_max/2, job.sp.v, job.sp.theta)\n",
    "    \n",
    "    # Store the furthest time traveled by any point\n",
    "    if job.doc.t_max > project.document.get('max_t', 0):\n",
    "        project.doc.max_t = job.doc.t_max\n",
    "    if job.doc.x_max > project.document.get('max_x', 0):\n",
    "        project.doc.max_x = job.doc.x_max\n",
    "    if job.doc.y_max > project.document.get('max_y', 0):\n",
    "        project.doc.max_y = job.doc.y_max\n",
    "    \n",
    "@Project.operation\n",
    "@Project.pre.after(compute_outputs)\n",
    "@Project.post.isfile('data.npz')\n",
    "@Project.post.isfile('animation.gif')\n",
    "def generate_trajectory(job):\n",
    "    project = signac.get_project()\n",
    "    num_samples = 1000\n",
    "    \n",
    "    t = np.linspace(0, project.doc.max_t, num_samples)\n",
    "    x = compute_x(t, job.sp.v, job.sp.theta)\n",
    "    y = compute_y(t, job.sp.v, job.sp.theta)\n",
    "    with job:\n",
    "        np.savez_compressed('data.npz', x=x, y=y, t=t, num_samples=num_samples)\n",
    "        make_animation(job.sp.v, job.sp.theta, x, y,\n",
    "                       int(job.doc.t_max/project.doc.max_t*num_samples),\n",
    "                       project.doc.max_x, project.doc.max_y, num_samples)\n",
    "        \n",
    "if __name__ == \"__main__\":\n",
    "    Project().main()"
   ]
  },
  {
   "cell_type": "code",
   "execution_count": null,
   "metadata": {},
   "outputs": [],
   "source": [
    "!printf \"The number of remaining operations is: %d\\n\\n\" `python3 project.py next compute_outputs | wc -l`\n",
    "!python3 project.py run -o compute_outputs -n 1 -v"
   ]
  },
  {
   "cell_type": "code",
   "execution_count": null,
   "metadata": {},
   "outputs": [],
   "source": [
    "!python3 project.py run -o compute_outputs --progress"
   ]
  },
  {
   "cell_type": "code",
   "execution_count": null,
   "metadata": {
    "scrolled": false
   },
   "outputs": [],
   "source": [
    "!python3 project.py status -d"
   ]
  },
  {
   "cell_type": "code",
   "execution_count": null,
   "metadata": {
    "scrolled": false
   },
   "outputs": [],
   "source": [
    "!python3 project.py run --progress"
   ]
  },
  {
   "cell_type": "code",
   "execution_count": null,
   "metadata": {
    "scrolled": true
   },
   "outputs": [],
   "source": [
    "!python3 project.py status -d --only-incomplete-operations"
   ]
  },
  {
   "cell_type": "markdown",
   "metadata": {},
   "source": [
    "# Extract outputs\n",
    "\n",
    "Now that all this data has been generated it is very easy to access it in the context of ``signac`` and pull the relevant files. "
   ]
  },
  {
   "cell_type": "code",
   "execution_count": null,
   "metadata": {
    "scrolled": false
   },
   "outputs": [],
   "source": [
    "vs = sorted(list(project.detect_schema()['v'][int]))\n",
    "thetas = sorted(list(project.detect_schema()['theta'][float]))\n",
    "print(project.detect_schema())"
   ]
  },
  {
   "cell_type": "code",
   "execution_count": null,
   "metadata": {},
   "outputs": [],
   "source": [
    "from IPython.display import HTML\n",
    "html_str = '<table>'\n",
    "for v in vs:\n",
    "    html_str += \"<tr>\"\n",
    "    for theta in thetas:\n",
    "        job = next(project.find_jobs({\"v\": v, \"theta\": theta}))\n",
    "        html_str += '<td><img src=\"workspace/{}/animation.gif\"></td>'.format(job)\n",
    "    html_str += \"</tr>\"\n",
    "html_str += '</table>'\n",
    "\n",
    "HTML(html_str)"
   ]
  },
  {
   "cell_type": "markdown",
   "metadata": {},
   "source": [
    "# Viewing the data\n",
    "\n",
    "Now, this form of data storage may be cleaner in some ways, but now it's completely impossible to inspect the data space manually if you wanted to.\n",
    "If you wanted to look through the filesystem to see things, you would have to look through each JSON file for the relevant metadata, which really isn't feasible.\n",
    "To overcome this, we have views."
   ]
  },
  {
   "cell_type": "code",
   "execution_count": null,
   "metadata": {},
   "outputs": [],
   "source": [
    "project = signac.get_project()\n",
    "project.create_linked_view()"
   ]
  },
  {
   "cell_type": "markdown",
   "metadata": {},
   "source": [
    "**Views are dynamic links, so can be immediately updated when the data space changes.\n",
    "As a result, they can also be easily customized by simply changing the order in which directory structures are constructed when views are created without affecting the data.**"
   ]
  },
  {
   "cell_type": "code",
   "execution_count": null,
   "metadata": {},
   "outputs": [],
   "source": [
    "!find view/"
   ]
  },
  {
   "cell_type": "code",
   "execution_count": null,
   "metadata": {},
   "outputs": [],
   "source": [
    "!find -L view/ | head -10"
   ]
  },
  {
   "cell_type": "markdown",
   "metadata": {},
   "source": [
    "# Extra"
   ]
  },
  {
   "cell_type": "markdown",
   "metadata": {},
   "source": [
    "## Submission to scheduler\n",
    "\n",
    "It is now trivial to submit these jobs to a cluster instead of running them locally.\n",
    "All we need to do is change our run command to a submit command, and the operation will run on any detected scheduler."
   ]
  },
  {
   "cell_type": "code",
   "execution_count": null,
   "metadata": {},
   "outputs": [],
   "source": [
    "!find . -name animation.gif | head -4 | xargs rm\n",
    "!python3 project.py status --full --stack --pretty"
   ]
  },
  {
   "cell_type": "code",
   "execution_count": null,
   "metadata": {},
   "outputs": [],
   "source": [
    "!python3 project.py submit"
   ]
  },
  {
   "cell_type": "code",
   "execution_count": null,
   "metadata": {},
   "outputs": [],
   "source": [
    "from project import Project\n",
    "Project().print_status(detailed=True, all_ops=True, unroll=False, pretty=True)"
   ]
  }
 ],
 "metadata": {
  "kernelspec": {
   "display_name": "Python 3",
   "language": "python",
   "name": "python3"
  },
  "language_info": {
   "codemirror_mode": {
    "name": "ipython",
    "version": 3
   },
   "file_extension": ".py",
   "mimetype": "text/x-python",
   "name": "python",
   "nbconvert_exporter": "python",
   "pygments_lexer": "ipython3",
   "version": "3.6.3"
  },
  "toc": {
   "nav_menu": {},
   "number_sections": true,
   "sideBar": true,
   "skip_h1_title": false,
   "title_cell": "Table of Contents",
   "title_sidebar": "Contents",
   "toc_cell": false,
   "toc_position": {},
   "toc_section_display": true,
   "toc_window_display": false
  }
 },
 "nbformat": 4,
 "nbformat_minor": 2
}
