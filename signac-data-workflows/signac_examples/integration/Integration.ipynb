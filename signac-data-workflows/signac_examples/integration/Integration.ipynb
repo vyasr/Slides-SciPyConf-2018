{
 "cells": [
  {
   "cell_type": "markdown",
   "metadata": {},
   "source": [
    "# The Python Ecosystem\n",
    "\n",
    "``signac`` is designed to be extremely lightweight, making it easy to work with other tools.\n",
    "Here, we demonstrate how it can be integrated with some other tools, which we also use to provide some comparison of ``signac``'s functionality with these tools."
   ]
  },
  {
   "cell_type": "markdown",
   "metadata": {},
   "source": [
    "# Sacred\n",
    "\n",
    "The [Sacred provenance management tool](sacred.readthedocs.io/en/latest/) is a popular Python package for logging experiments and reproducing them later.\n",
    "It provides some functionality that appears similar to ours, but it can be used in a complementary manner."
   ]
  },
  {
   "cell_type": "code",
   "execution_count": null,
   "metadata": {},
   "outputs": [],
   "source": [
    "!rm -r project.py experiment.py workspace signac.rc"
   ]
  },
  {
   "cell_type": "code",
   "execution_count": null,
   "metadata": {},
   "outputs": [],
   "source": [
    "import signac\n",
    "project = signac.init_project(\"Sacred\")\n",
    "for i in range(5):\n",
    "    project.open_job({\"i\": i}).init()"
   ]
  },
  {
   "cell_type": "code",
   "execution_count": null,
   "metadata": {},
   "outputs": [],
   "source": [
    "%%writefile experiment.py\n",
    "from sacred import Experiment\n",
    "\n",
    "ex = Experiment()\n",
    "\n",
    "@ex.command\n",
    "def hello(i):\n",
    "    print('hello #', i)\n",
    "\n",
    "@ex.command\n",
    "def goodbye(i):\n",
    "    print('goodbye #', i)"
   ]
  },
  {
   "cell_type": "code",
   "execution_count": null,
   "metadata": {},
   "outputs": [],
   "source": [
    "%%writefile project.py\n",
    "from flow import FlowProject\n",
    "from sacred.observers import FileStorageObserver\n",
    "import inspect\n",
    "\n",
    "from experiment import ex\n",
    "\n",
    "class SacredProject(FlowProject):\n",
    "    pass\n",
    "\n",
    "# Note: This is assuming that the signac operation and the experiment command names are identical\n",
    "def sacred_op(job):\n",
    "    sacred_cmd = inspect.stack()[1][3]\n",
    "    ex.add_config(**job.sp())\n",
    "    ex.observers[:] = [FileStorageObserver.create(job.fn('my_runs'))]\n",
    "    ex.run(sacred_cmd)\n",
    "    job.doc[sacred_cmd] = True\n",
    "    @SacredProject.label\n",
    "    def hello_lab(job):\n",
    "        return job.doc.get('hello') is not None\n",
    "\n",
    "@SacredProject.operation\n",
    "@SacredProject.post.true('hello')\n",
    "def hello(job):\n",
    "    sacred_op(job)\n",
    "    \n",
    "@SacredProject.operation\n",
    "@SacredProject.pre.after(hello)\n",
    "@SacredProject.post.true('goodbye')\n",
    "def goodbye(job):\n",
    "    sacred_op(job)\n",
    "\n",
    "if __name__ == '__main__':\n",
    "    SacredProject().main()"
   ]
  },
  {
   "cell_type": "code",
   "execution_count": null,
   "metadata": {
    "scrolled": false
   },
   "outputs": [],
   "source": [
    "!python3 project.py run -n 1"
   ]
  },
  {
   "cell_type": "code",
   "execution_count": null,
   "metadata": {
    "scrolled": false
   },
   "outputs": [],
   "source": [
    "!python3 project.py run"
   ]
  },
  {
   "cell_type": "code",
   "execution_count": null,
   "metadata": {
    "scrolled": false
   },
   "outputs": [],
   "source": [
    "!python3 project.py status --stack --pretty --full"
   ]
  },
  {
   "cell_type": "markdown",
   "metadata": {},
   "source": [
    "# Pandas\n",
    "\n",
    "The data in a signac database can easily be coerced into a format suitable for pandas.\n",
    "The precise method by which this is accomplished depends on the desired data.\n",
    "This example provides a simple demonstration where the index alone is sufficient, along with a more complex example involving deeper indexing."
   ]
  },
  {
   "cell_type": "code",
   "execution_count": null,
   "metadata": {},
   "outputs": [],
   "source": [
    "from IPython.core.display import HTML\n",
    "HTML(\"<script>Jupyter.notebook.kernel.restart()</script>\")\n",
    "!rm -r project.py experiment.py workspace signac.rc"
   ]
  },
  {
   "cell_type": "code",
   "execution_count": null,
   "metadata": {},
   "outputs": [],
   "source": [
    "import pandas as pd\n",
    "import numpy as np\n",
    "import signac\n",
    "project = signac.init_project(\"Pandas\")\n",
    "\n",
    "names = [\"foo\", \"bar\", \"baz\"]\n",
    "alphas = range(10)\n",
    "betas = np.random.rand(5)\n",
    "for name in names:\n",
    "    for alpha in alphas:\n",
    "        for beta in betas:\n",
    "            project.open_job({\"alpha\": alpha, \"beta\": beta, \"name\": name}).init()"
   ]
  },
  {
   "cell_type": "code",
   "execution_count": null,
   "metadata": {},
   "outputs": [],
   "source": [
    "df = pd.DataFrame(project.index())\n",
    "df.set_index(\"_id\", inplace=True)\n",
    "df"
   ]
  },
  {
   "cell_type": "markdown",
   "metadata": {},
   "source": [
    "This result describes the space, but typically you're interested in the actual data, which is contained in the state point.\n",
    "We can extract that alone, and generate a more useful data frame.\n",
    "Additionally, any of this data can be filtered using the global signac query API."
   ]
  },
  {
   "cell_type": "code",
   "execution_count": null,
   "metadata": {
    "scrolled": true
   },
   "outputs": [],
   "source": [
    "statepoints = {doc['_id']: doc['statepoint'] for doc in signac.Collection(project.index()).find(\n",
    "    {\"statepoint.beta\": {\"$lt\": 0.2}, \"statepoint.alpha\": {'$in': [1, 3, 5]}, \"statepoint.name\": {\"$regex\": \"ba*\"}})}\n",
    "df_data = pd.DataFrame(statepoints).T\n",
    "df_data"
   ]
  },
  {
   "cell_type": "markdown",
   "metadata": {},
   "source": [
    "It's also easy to add more information into this data frame.\n",
    "This includes data from the job document or data from files in the data space."
   ]
  },
  {
   "cell_type": "code",
   "execution_count": null,
   "metadata": {},
   "outputs": [],
   "source": [
    "for job in project:\n",
    "    job.doc.product = job.sp.alpha*job.sp.beta\n",
    "    with job:\n",
    "        with open('product_squared.txt', 'w') as f:\n",
    "            f.write(str(job.doc.product**2))"
   ]
  },
  {
   "cell_type": "code",
   "execution_count": null,
   "metadata": {
    "scrolled": true
   },
   "outputs": [],
   "source": [
    "statepoints = {doc['_id']: {**doc['statepoint'], 'product': doc['product']} for doc in project.index()}\n",
    "df_data = pd.DataFrame(statepoints).T\n",
    "df_data"
   ]
  },
  {
   "cell_type": "code",
   "execution_count": null,
   "metadata": {
    "scrolled": true
   },
   "outputs": [],
   "source": [
    "index = signac.Collection(project.index({\".*product_squared.*\": \"TextFile\"}))\n",
    "ps = {}\n",
    "for doc in index.find({\"filename\": {\"$regex\": \"product_squared.txt\"}}):\n",
    "    with signac.fetch(doc) as file:\n",
    "        ps[doc['signac_id']] = {\"product_squared\": file.read()}\n",
    "df_data.join(pd.DataFrame(ps).T)"
   ]
  },
  {
   "cell_type": "markdown",
   "metadata": {},
   "source": [
    "# Datreant\n",
    "The ``datreant.core`` package is one of the closer analogues to the ``signac`` data managment package.\n",
    "However, it is even less restrictive than ``signac`` in that it does not require any index; it simply offers a way to manage data on the filesystem.\n",
    "We have benchmarked the two packages to see how they fare relative to one another; however, they can also be used in conjunction if there is value in maintaining trees within a ``signac`` data space."
   ]
  },
  {
   "cell_type": "code",
   "execution_count": null,
   "metadata": {},
   "outputs": [],
   "source": [
    "from IPython.core.display import HTML\n",
    "HTML(\"<script>Jupyter.notebook.kernel.restart()</script>\")\n",
    "!rm -r project.py experiment.py workspace signac.rc"
   ]
  },
  {
   "cell_type": "code",
   "execution_count": null,
   "metadata": {},
   "outputs": [],
   "source": [
    "import signac\n",
    "project = signac.init_project(\"Datreant\")\n",
    "for i in range(5):\n",
    "    project.open_job({\"i\": i}).init()"
   ]
  },
  {
   "cell_type": "code",
   "execution_count": null,
   "metadata": {},
   "outputs": [],
   "source": [
    "import datreant.core as dtr\n",
    "import random, string\n",
    "for job in project:\n",
    "    with job:\n",
    "        s = dtr.Treant('tree1')\n",
    "        s.tags.add(''.join(random.choice(string.ascii_uppercase) for _ in range(5)))\n",
    "        !ls && ls tree1 && cat tree1/Treant* && echo \"\\n\"        \n",
    "        s = dtr.Treant('tree2')\n",
    "        s.tags.add(''.join(random.choice(string.ascii_uppercase) for _ in range(5)))"
   ]
  },
  {
   "cell_type": "code",
   "execution_count": null,
   "metadata": {},
   "outputs": [],
   "source": [
    "trees = ['tree1', 'tree2']\n",
    "for job in project:\n",
    "    with job:\n",
    "        for tree in trees:\n",
    "            s = dtr.Treant(tree)\n",
    "            print(\"For job {}, the treant {} contains tags {}\".format(\n",
    "                   job.get_id(), tree, \", \".join(t for t in s.tags)))"
   ]
  }
 ],
 "metadata": {
  "kernelspec": {
   "display_name": "Python 3",
   "language": "python",
   "name": "python3"
  },
  "language_info": {
   "codemirror_mode": {
    "name": "ipython",
    "version": 3
   },
   "file_extension": ".py",
   "mimetype": "text/x-python",
   "name": "python",
   "nbconvert_exporter": "python",
   "pygments_lexer": "ipython3",
   "version": "3.6.3"
  },
  "toc": {
   "nav_menu": {},
   "number_sections": true,
   "sideBar": true,
   "skip_h1_title": false,
   "title_cell": "Table of Contents",
   "title_sidebar": "Contents",
   "toc_cell": false,
   "toc_position": {},
   "toc_section_display": true,
   "toc_window_display": false
  }
 },
 "nbformat": 4,
 "nbformat_minor": 2
}
